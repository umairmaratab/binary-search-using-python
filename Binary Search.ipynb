{
 "cells": [
  {
   "cell_type": "markdown",
   "id": "b970a0a5-2b2c-4e9c-9460-ba6d73cd9d37",
   "metadata": {},
   "source": [
    "# Binray Search\n",
    "## A divide and conquer algorithm\n",
    "It helps you search an ordered list faster, searches a list using divide and conquer strategy and if number finds it returns its index."
   ]
  },
  {
   "cell_type": "markdown",
   "id": "894aec74-2f79-40be-90ee-0222b7d5fa47",
   "metadata": {},
   "source": [
    "# Working:\n",
    "It asks the root that is element = root, if yes return it's index, if != and element < root then go to left side of tree, if != and element > root go to right side of tree."
   ]
  },
  {
   "cell_type": "markdown",
   "id": "14d334f1-ac0e-451a-adce-2fa3368f1176",
   "metadata": {},
   "source": [
    "## Difference b/w Naive Search and Binary Search"
   ]
  },
  {
   "cell_type": "markdown",
   "id": "080c326a-5ebc-48a2-ba44-c9edbdd52dd9",
   "metadata": {},
   "source": [
    "**Naive Search** scans entire list and ask if it's equal to target if yes return index, if no return -1"
   ]
  },
  {
   "cell_type": "code",
   "execution_count": 25,
   "id": "b8a9fa3a-5aa5-4c36-940c-3d91e4305d64",
   "metadata": {},
   "outputs": [],
   "source": [
    "def naive_search(l, target):\n",
    "    # example l = [1,3,10,12]\n",
    "    for i in range(len(l)):\n",
    "        if l[i] == target:\n",
    "            # print(f\"Value at index {i} is: {l[i]}\")\n",
    "            return i\n",
    "    return -1"
   ]
  },
  {
   "cell_type": "code",
   "execution_count": 26,
   "id": "c57d7bfa-d681-47fc-9e46-0b59b6d0aaf7",
   "metadata": {},
   "outputs": [
    {
     "data": {
      "text/plain": [
       "2"
      ]
     },
     "execution_count": 26,
     "metadata": {},
     "output_type": "execute_result"
    }
   ],
   "source": [
    "naive_search([1,2,5,6,8],5)"
   ]
  },
  {
   "cell_type": "code",
   "execution_count": 12,
   "id": "b5d3c861-0d33-4169-8d1d-21e1c1d02ef0",
   "metadata": {},
   "outputs": [],
   "source": [
    "# Binary search uses divide and conquer!\n",
    "# we will leverge the fact that our list is SORTED."
   ]
  },
  {
   "cell_type": "code",
   "execution_count": 17,
   "id": "9a167888-7754-40ec-aa62-348823297842",
   "metadata": {},
   "outputs": [
    {
     "name": "stdout",
     "output_type": "stream",
     "text": [
      "2\n"
     ]
    }
   ],
   "source": [
    "a = [1,2,3,4,5,6]\n",
    "ind = len(a)//2)\n",
    "print(a[ind])"
   ]
  },
  {
   "cell_type": "code",
   "execution_count": 27,
   "id": "73662a3f-09cb-4762-962a-7bd10baf2399",
   "metadata": {},
   "outputs": [
    {
     "name": "stdout",
     "output_type": "stream",
     "text": [
      "Naive search time:  0.0002367541551589966 seconds\n",
      "Binary search time:  3.1098604202270506e-06 seconds\n"
     ]
    }
   ],
   "source": [
    "import random\n",
    "import time\n",
    "def binary_search(l, target, low=None, high=None):\n",
    "    #example [1,3,5,10,12]\n",
    "    if low is None:\n",
    "        low = 0\n",
    "    if high is None:\n",
    "        high = len(l) - 1\n",
    "    \n",
    "    if high < low:\n",
    "        return -1\n",
    "    mid = (low + high)// 2\n",
    "    \n",
    "    if l[mid] == target:\n",
    "        return mid\n",
    "    elif target < l[mid]:\n",
    "        return binary_search(l, target, low, mid - 1)\n",
    "    else:\n",
    "        return binary_search(l, target, mid + 1, high)\n",
    "    \n",
    "if __name__=='__main__':\n",
    "    # l = [1,3,5,10,12]\n",
    "    # target = 10\n",
    "    # print(naive_search(l,target))\n",
    "    # print(binary_search(l, target))\n",
    "    \n",
    "    # Time Analysis\n",
    "    length = 10000\n",
    "    sorted_list = set()\n",
    "    \n",
    "    while len(sorted_list) < length:\n",
    "        sorted_list.add(random.randint(-3 * length, 3 * length))\n",
    "    sorted_list = sorted(list(sorted_list))\n",
    "    \n",
    "    start = time.time()\n",
    "    for target in sorted_list:\n",
    "        naive_search(sorted_list, target)\n",
    "    end = time.time()\n",
    "    print(\"Naive search time: \", (end - start)/length, \"seconds\")\n",
    "    \n",
    "    start = time.time()\n",
    "    for target in sorted_list:\n",
    "        binary_search(sorted_list, target)\n",
    "    end = time.time()\n",
    "    print(\"Binary search time: \", (end - start)/length, \"seconds\")\n",
    "    "
   ]
  },
  {
   "cell_type": "code",
   "execution_count": null,
   "id": "3c6f38ba-d246-47f6-a1bb-8892d4b7bf5e",
   "metadata": {},
   "outputs": [],
   "source": []
  }
 ],
 "metadata": {
  "kernelspec": {
   "display_name": "Python 3 (ipykernel)",
   "language": "python",
   "name": "python3"
  },
  "language_info": {
   "codemirror_mode": {
    "name": "ipython",
    "version": 3
   },
   "file_extension": ".py",
   "mimetype": "text/x-python",
   "name": "python",
   "nbconvert_exporter": "python",
   "pygments_lexer": "ipython3",
   "version": "3.10.9"
  }
 },
 "nbformat": 4,
 "nbformat_minor": 5
}
